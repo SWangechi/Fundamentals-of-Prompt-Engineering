{
 "cells": [
  {
   "cell_type": "markdown",
   "id": "eb12d769",
   "metadata": {},
   "source": [
    "# Prompt Engineering Fundamentals: Few-Shot Prompting"
   ]
  },
  {
   "cell_type": "markdown",
   "id": "74e3e57f",
   "metadata": {},
   "source": [
    "Teach the model by example.\n",
    "\n",
    "**Concept:** Give it 2–3 demonstration prompts with ideal answers, then a new unseen one."
   ]
  },
  {
   "cell_type": "code",
   "execution_count": 1,
   "id": "b344c8fd",
   "metadata": {},
   "outputs": [
    {
     "name": "stderr",
     "output_type": "stream",
     "text": [
      "c:\\Users\\IDA\\Documents\\agentic_ai\\venv\\Lib\\site-packages\\tqdm\\auto.py:21: TqdmWarning: IProgress not found. Please update jupyter and ipywidgets. See https://ipywidgets.readthedocs.io/en/stable/user_install.html\n",
      "  from .autonotebook import tqdm as notebook_tqdm\n"
     ]
    },
    {
     "name": "stdout",
     "output_type": "stream",
     "text": [
      "================================================================================\n",
      " FEW-SHOT PROMPTING – GPT-4 vs Gemini 2.5 Flash\n",
      "================================================================================\n",
      "Prompt:\n",
      " \n",
      "You are an expert summarizer. Here are examples of high-quality 2-line summaries:\n",
      "\n",
      "Example 1:\n",
      "Headline: \"Stock markets soar after inflation drops.\"\n",
      "Summary: \"Markets rally globally as inflation cools, boosting investor optimism.\"\n",
      "\n",
      "Example 2:\n",
      "Headline: \"New vaccine shows promise in early trials.\"\n",
      "Summary: \"Preliminary data reveals strong immune response with minimal side effects.\"\n",
      "\n",
      "Now summarize this:\n",
      "Headline: \"AI detects early signs of depression from voice tone.\"\n",
      "Summary:\n",
      "\n",
      "\n",
      " GPT-4 Response:\n",
      "\"New AI technology identifies early depression indicators by analyzing vocal tone variations.\"\n",
      "\n",
      " Gemini Response:\n",
      "AI identifies initial signs of depression.\n",
      "It does so through analysis of vocal tone.\n",
      "\n",
      "Reflection: Note how examples influence the model’s style and conciseness.\n"
     ]
    }
   ],
   "source": [
    "\"\"\"\n",
    "Prompt Engineering Fundamentals - Few-shot Prompting\n",
    "Goal: Guide the model with examples before asking it to generalize.\n",
    "\"\"\"\n",
    "import os\n",
    "from openai import OpenAI\n",
    "import google.generativeai as genai\n",
    "\n",
    "OPENAI_API_KEY = os.getenv(\"OPENAI_API_KEY\")\n",
    "GOOGLE_API_KEY = os.getenv(\"GOOGLE_API_KEY\")\n",
    "\n",
    "if not OPENAI_API_KEY or not GOOGLE_API_KEY:\n",
    "    raise SystemExit(\"Please set both OPENAI_API_KEY and GOOGLE_API_KEY in your .env file.\")\n",
    "\n",
    "openai_client = OpenAI(api_key=OPENAI_API_KEY)\n",
    "genai.configure(api_key=GOOGLE_API_KEY)\n",
    "\n",
    "# Few-shot examples\n",
    "few_shot_prompt = \"\"\"\n",
    "You are an expert summarizer. Here are examples of high-quality 2-line summaries:\n",
    "\n",
    "Example 1:\n",
    "Headline: \"Stock markets soar after inflation drops.\"\n",
    "Summary: \"Markets rally globally as inflation cools, boosting investor optimism.\"\n",
    "\n",
    "Example 2:\n",
    "Headline: \"New vaccine shows promise in early trials.\"\n",
    "Summary: \"Preliminary data reveals strong immune response with minimal side effects.\"\n",
    "\n",
    "Now summarize this:\n",
    "Headline: \"AI detects early signs of depression from voice tone.\"\n",
    "Summary:\n",
    "\"\"\"\n",
    "\n",
    "def query_openai(prompt):\n",
    "    response = openai_client.chat.completions.create(\n",
    "        model=\"gpt-4o-mini\",\n",
    "        messages=[{\"role\": \"user\", \"content\": prompt}],\n",
    "        temperature=0.7\n",
    "    )\n",
    "    return response.choices[0].message.content.strip()\n",
    "\n",
    "def query_gemini(prompt):\n",
    "    model = genai.GenerativeModel(\"gemini-2.5-flash\")\n",
    "    response = model.generate_content(prompt)\n",
    "    return response.text.strip() if response.text else \"(No response returned.)\"\n",
    "\n",
    "print(\"=\" * 80)\n",
    "print(\" FEW-SHOT PROMPTING – GPT-4 vs Gemini 2.5 Flash\")\n",
    "print(\"=\" * 80)\n",
    "\n",
    "print(\"Prompt:\\n\", few_shot_prompt)\n",
    "\n",
    "print(\"\\n GPT-4 Response:\")\n",
    "try:\n",
    "    print(query_openai(few_shot_prompt))\n",
    "except Exception as e:\n",
    "    print(f\"Error querying OpenAI: {e}\")\n",
    "\n",
    "print(\"\\n Gemini Response:\")\n",
    "try:\n",
    "    print(query_gemini(few_shot_prompt))\n",
    "except Exception as e:\n",
    "    print(f\"Error querying Gemini: {e}\")\n",
    "\n",
    "print(\"\\nReflection: Note how examples influence the model’s style and conciseness.\")\n"
   ]
  }
 ],
 "metadata": {
  "kernelspec": {
   "display_name": "venv",
   "language": "python",
   "name": "python3"
  },
  "language_info": {
   "codemirror_mode": {
    "name": "ipython",
    "version": 3
   },
   "file_extension": ".py",
   "mimetype": "text/x-python",
   "name": "python",
   "nbconvert_exporter": "python",
   "pygments_lexer": "ipython3",
   "version": "3.12.7"
  }
 },
 "nbformat": 4,
 "nbformat_minor": 5
}
